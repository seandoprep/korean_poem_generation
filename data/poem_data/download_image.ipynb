{
  "cells": [
    {
      "cell_type": "code",
      "execution_count": null,
      "metadata": {
        "id": "9Swp7tiTQNtA"
      },
      "outputs": [],
      "source": [
        "import pandas as pd\n",
        "import urllib.request\n",
        "from tqdm.notebook import tqdm"
      ]
    },
    {
      "cell_type": "code",
      "execution_count": null,
      "metadata": {
        "id": "WwSLWfHDQNtE"
      },
      "outputs": [],
      "source": [
        "data = pd.read_csv('.data/poem_data/dica_poem_crawled_data.csv', index_col = 0)"
      ]
    },
    {
      "cell_type": "code",
      "execution_count": null,
      "metadata": {
        "id": "huYd7D1BQNtF"
      },
      "outputs": [],
      "source": [
        "url = data.img_url[0]\n",
        "i= 0\n",
        "savelocation = \".data/images/{0:05d}.jpg\".format(i)\n",
        "urllib.request.urlretrieve(url, savelocation)\n",
        "print(savelocation)"
      ]
    },
    {
      "cell_type": "code",
      "execution_count": null,
      "metadata": {
        "id": "qz4r3JLBQNtG",
        "outputId": "eee29aa8-bbcc-4aa0-b273-a3e65c952707",
        "colab": {
          "referenced_widgets": [
            "1a7607dd794f4c64a3207678560bff3c"
          ]
        }
      },
      "outputs": [
        {
          "data": {
            "application/vnd.jupyter.widget-view+json": {
              "model_id": "1a7607dd794f4c64a3207678560bff3c",
              "version_major": 2,
              "version_minor": 0
            },
            "text/plain": [
              "  0%|          | 0/17909 [00:00<?, ?it/s]"
            ]
          },
          "metadata": {},
          "output_type": "display_data"
        }
      ],
      "source": [
        "for idx, path in enumerate(tqdm(data['img_url'])):\n",
        "    savelocation = \".data/images/{0:05d}.jpg\".format(idx)\n",
        "    try:\n",
        "        urllib.request.urlretrieve(path, savelocation)\n",
        "    except:\n",
        "        pass"
      ]
    },
    {
      "cell_type": "code",
      "execution_count": null,
      "metadata": {
        "id": "UOn2o6zwQNtI"
      },
      "outputs": [],
      "source": [
        "import os, json"
      ]
    },
    {
      "cell_type": "code",
      "execution_count": null,
      "metadata": {
        "id": "-VB1x3AOQNtJ"
      },
      "outputs": [],
      "source": [
        "data = pd.read_csv('.data/poem_data/dica_preprocess_data.csv', index_col = 0)"
      ]
    },
    {
      "cell_type": "code",
      "execution_count": null,
      "metadata": {
        "id": "H1aftOKRQNtK"
      },
      "outputs": [],
      "source": [
        "data['content'] = data['content'].str.strip('\\n')"
      ]
    },
    {
      "cell_type": "code",
      "execution_count": null,
      "metadata": {
        "id": "OVSoXkYdQNtK",
        "outputId": "f0d08a01-d85a-4191-b4bd-7edbe6d04624"
      },
      "outputs": [
        {
          "name": "stdout",
          "output_type": "stream",
          "text": [
            "사량도 가는길\n",
            "이른 새벽\n",
            "물살을 가르며\n",
            "또 하루를 연다\n",
            "뜨거웠던 간밤도\n",
            "물살속에 거두어 담고\n",
            "먼산 허리께로 \n",
            "묻혀오는 \n",
            "섬나무들의 형형색색\n",
            "가슴으로 담는\n",
            "사량호의 가을아침\n",
            "-----\n",
            "사량도 가는길\n",
            "이른 새벽\n",
            "물살을 가르며\n",
            "또 하루를 연다\n",
            "뜨거웠던 간밤도\n",
            "물살속에 거두어 담고\n",
            "먼산 허리께로 \n",
            "묻혀오는 \n",
            "섬나무들의 형형색색\n",
            "가슴으로 담는\n",
            "사량호의 가을아침\n",
            "-----\n",
            "['사량도 가는길', '이른 새벽', '물살을 가르며', '또 하루를 연다', '뜨거웠던 간밤도', '물살속에 거두어 담고', '먼산 허리께로 ', '묻혀오는 ', '섬나무들의 형형색색', '가슴으로 담는', '사량호의 가을아침']\n"
          ]
        }
      ],
      "source": [
        "print(data.loc[4, 'content'].strip('\\n'))\n",
        "print('-----')\n",
        "print(data.loc[4, 'content'])\n",
        "print('-----')\n",
        "print(data.loc[4, 'content'].split('\\n'))\n"
      ]
    },
    {
      "cell_type": "code",
      "execution_count": null,
      "metadata": {
        "id": "SFLum2zkQNtL",
        "outputId": "9b756538-cfd2-483d-e5ec-f065d8901ce2",
        "colab": {
          "referenced_widgets": [
            "6513a6c1c02f4114b10f432f02eed1e7"
          ]
        }
      },
      "outputs": [
        {
          "data": {
            "application/vnd.jupyter.widget-view+json": {
              "model_id": "6513a6c1c02f4114b10f432f02eed1e7",
              "version_major": 2,
              "version_minor": 0
            },
            "text/plain": [
              "  0%|          | 0/17801 [00:00<?, ?it/s]"
            ]
          },
          "metadata": {},
          "output_type": "display_data"
        }
      ],
      "source": [
        "json_dict = dict()\n",
        "json_list = []\n",
        "for file in tqdm(os.listdir('./images')):\n",
        "    idx, _ = file.split('.')\n",
        "    idx_int = int(idx)\n",
        "    try:\n",
        "        coco = dict()\n",
        "        coco['file_path'] = f'../Korean_poem_generation/images_dicapoem/{file}'\n",
        "        coco['id'] = idx_int\n",
        "        coco['captions'] = data.loc[idx_int, 'content']\n",
        "        json_dict[idx_int] = coco\n",
        "        json_list.append(coco)\n",
        "    except:\n",
        "        pass"
      ]
    },
    {
      "cell_type": "code",
      "execution_count": null,
      "metadata": {
        "id": "mDUFMlg9QNtM"
      },
      "outputs": [],
      "source": [
        "with open('annotation_one_caption_dict.json', 'w') as f:\n",
        "    json.dump(json_dict, f, indent = 2, )\n",
        "with open('annotation_one_caption_list.json', 'w') as f:\n",
        "    json.dump(json_list, f, indent = 2, )"
      ]
    },
    {
      "cell_type": "code",
      "execution_count": null,
      "metadata": {
        "id": "rmivQyBFQNtN"
      },
      "outputs": [],
      "source": [
        "with open('annotation_one_caption_list.json', 'r') as f:\n",
        "    json_ = json.load(f)"
      ]
    },
    {
      "cell_type": "code",
      "execution_count": null,
      "metadata": {
        "id": "yXo8UY9tQNtN",
        "outputId": "9641ebd9-9891-4a2d-d93e-96249443516b",
        "colab": {
          "referenced_widgets": [
            "5f9a7c9338354f96b6c2b2ed7bc4d674"
          ]
        }
      },
      "outputs": [
        {
          "data": {
            "application/vnd.jupyter.widget-view+json": {
              "model_id": "5f9a7c9338354f96b6c2b2ed7bc4d674",
              "version_major": 2,
              "version_minor": 0
            },
            "text/plain": [
              "  0%|          | 0/17801 [00:00<?, ?it/s]"
            ]
          },
          "metadata": {},
          "output_type": "display_data"
        }
      ],
      "source": [
        "json_dict = dict()\n",
        "json_list = []\n",
        "for file in tqdm(os.listdir('./images')):\n",
        "    idx, _ = file.split('.')\n",
        "    idx_int = int(idx)\n",
        "    try:\n",
        "        coco = dict()\n",
        "        coco['file_path'] = f'../Korean_poem_generation/images_dicapoem/{file}'\n",
        "        coco['id'] = idx_int\n",
        "        coco['captions'] = data.loc[idx_int, 'content'].split('\\n')\n",
        "        json_dict[idx_int] = coco\n",
        "        json_list.append(coco)\n",
        "    except:\n",
        "        pass"
      ]
    },
    {
      "cell_type": "code",
      "execution_count": null,
      "metadata": {
        "id": "mbqiDhYPQNtO"
      },
      "outputs": [],
      "source": [
        "with open('annotation_captions_dict.json', 'w') as f:\n",
        "    json.dump(json_dict, f, indent = 2)\n",
        "with open('annotation_captions_list.json', 'w') as f:\n",
        "    json.dump(json_list, f, indent = 2)"
      ]
    },
    {
      "cell_type": "code",
      "execution_count": null,
      "metadata": {
        "id": "wsupewEsQNtO"
      },
      "outputs": [],
      "source": [
        "with open('annotation_captions_list.json', 'r') as f:\n",
        "    json_ = json.load(f)"
      ]
    }
  ],
  "metadata": {
    "kernelspec": {
      "display_name": "pytorch_env",
      "language": "python",
      "name": "python3"
    },
    "language_info": {
      "codemirror_mode": {
        "name": "ipython",
        "version": 3
      },
      "file_extension": ".py",
      "mimetype": "text/x-python",
      "name": "python",
      "nbconvert_exporter": "python",
      "pygments_lexer": "ipython3",
      "version": "3.8.0"
    },
    "orig_nbformat": 4,
    "colab": {
      "provenance": []
    }
  },
  "nbformat": 4,
  "nbformat_minor": 0
}
