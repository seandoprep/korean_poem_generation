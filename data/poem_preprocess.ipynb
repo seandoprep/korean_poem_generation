{
  "nbformat": 4,
  "nbformat_minor": 0,
  "metadata": {
    "colab": {
      "provenance": [],
      "include_colab_link": true
    },
    "kernelspec": {
      "name": "python3",
      "display_name": "Python 3"
    },
    "language_info": {
      "name": "python"
    },
    "gpuClass": "standard"
  },
  "cells": [
    {
      "cell_type": "markdown",
      "metadata": {
        "id": "view-in-github",
        "colab_type": "text"
      },
      "source": [
        "<a href=\"https://colab.research.google.com/github/seandoprep/korean_poem_generation/blob/main/poem_preprocess.ipynb\" target=\"_parent\"><img src=\"https://colab.research.google.com/assets/colab-badge.svg\" alt=\"Open In Colab\"/></a>"
      ]
    },
    {
      "cell_type": "code",
      "execution_count": null,
      "metadata": {
        "id": "dCsHrWiwK_75",
        "colab": {
          "base_uri": "https://localhost:8080/"
        },
        "outputId": "7730dcbd-9d7c-45fe-a89c-4bb429d1b545"
      },
      "outputs": [
        {
          "output_type": "stream",
          "name": "stdout",
          "text": [
            "Mounted at content/\n"
          ]
        }
      ],
      "source": [
        "from google.colab import drive\n",
        "drive.mount('content/')"
      ]
    },
    {
      "cell_type": "code",
      "source": [
        "!pip install hanja"
      ],
      "metadata": {
        "id": "X9D-TLvCLbW7"
      },
      "execution_count": null,
      "outputs": []
    },
    {
      "cell_type": "markdown",
      "source": [
        "# Poemlove"
      ],
      "metadata": {
        "id": "_tVwwiJ1XuE7"
      }
    },
    {
      "cell_type": "code",
      "source": [
        "import pandas as pd\n",
        "import re\n",
        "import hanja\n",
        "\n",
        "data = pd.read_excel('/content/content/MyDrive/poem_crawled_data.xlsx')"
      ],
      "metadata": {
        "id": "JnY1wySNLFyN"
      },
      "execution_count": null,
      "outputs": []
    },
    {
      "cell_type": "code",
      "source": [
        "# 결측값 제거\n",
        "data = data.dropna(axis = 0)\n",
        "len(data)  # 46219"
      ],
      "metadata": {
        "id": "iPB_WKONMBVs"
      },
      "execution_count": null,
      "outputs": []
    },
    {
      "cell_type": "code",
      "source": [
        "#영어 들어간 content 지우기\n",
        "data['drop'] = data['content'].apply(lambda x : 1 if  re.compile(r'[a-zA-Z]+').search(x) else 0)\n",
        "data = data.drop(data[data['drop']==1].index)\n",
        "len(data)  # 42541"
      ],
      "metadata": {
        "id": "dDYxvvZsLd14"
      },
      "execution_count": null,
      "outputs": []
    },
    {
      "cell_type": "code",
      "source": [
        "#괄호 + 괄호 안 지우기\n",
        "data['content'] = data['content'].apply(lambda x : re.sub(r\"\\([^)]*\\)\",\"\",x))"
      ],
      "metadata": {
        "id": "jCI8W6ZEL7Vh"
      },
      "execution_count": null,
      "outputs": []
    },
    {
      "cell_type": "code",
      "source": [
        "#줄바꿈 바꾸기\n",
        "def func_space(text):\n",
        "  text = re.sub(r\"\\/+\",\"/\",text)\n",
        "  text = re.sub(r\"[ (\\xa0)|(\\t)]+\",\" \",text)\n",
        "  text = re.sub(r\"[(\\n)]+\",\"\\n\",text)\n",
        "  return text\n",
        "\n",
        "data['content'] = data['content'].apply(lambda x : func_space(x))"
      ],
      "metadata": {
        "id": "e7oetZzcL8fc"
      },
      "execution_count": null,
      "outputs": []
    },
    {
      "cell_type": "code",
      "source": [
        "def func_character(text):\n",
        "  #한자 바꾸기\n",
        "  hj = list(set(re.findall(r\"([一-鿕]|[㐀-䶵]|[豈-龎])+\", text)))\n",
        "  hg = [hanja.translate(h,'substitution') for h in hj]\n",
        "  for i in range(len(hg)):\n",
        "    text = text.replace(hj[i], hg[i])\n",
        "  return text\n",
        "\n",
        "data['content'] = data['content'].apply(lambda x : func_character(x))"
      ],
      "metadata": {
        "id": "1xkycBqoL9rV"
      },
      "execution_count": null,
      "outputs": []
    },
    {
      "cell_type": "code",
      "source": [
        "# 짧은 시 제거\n",
        "data['drop'] = data['content'].apply(lambda x : 1 if len(x)<10 else 0)\n",
        "data = data.drop(data[data['drop']==1].index)"
      ],
      "metadata": {
        "id": "Z1F8-k_lL-sB"
      },
      "execution_count": null,
      "outputs": []
    },
    {
      "cell_type": "code",
      "source": [
        "# \\r -> \\n\n",
        "data['content'] = data['content'].apply(lambda x: re.sub('\\r', '\\n', x))"
      ],
      "metadata": {
        "id": "afvQ2tqwNqvV"
      },
      "execution_count": null,
      "outputs": []
    },
    {
      "cell_type": "code",
      "source": [
        "# 개행문자 하나로 맞춰주기, 특수문자 제거(제거할 때 띄어쓰기)\n",
        "def func_n(text):\n",
        "  text = re.sub('\\n\\s+', '\\n', text)\n",
        "  text = re.sub(r\"[^가-힇0-9‘“.,!?\\n/ ]+\", \" \", text)\n",
        "\n",
        "  return text\n",
        "\n",
        "data['content'] = data['content'].apply(lambda x : func_n(x))"
      ],
      "metadata": {
        "id": "kRK-47ISTekd"
      },
      "execution_count": null,
      "outputs": []
    },
    {
      "cell_type": "code",
      "source": [
        "# 제목 수정\n",
        "def func_title(text):\n",
        "  match = re.search('-', text)\n",
        "  if match:\n",
        "    start_index = match.start()\n",
        "    text = text[:start_index-1]\n",
        "  return text\n",
        "\n",
        "data['title'] = data['title'].apply(lambda x : func_title(x))"
      ],
      "metadata": {
        "id": "LMnT2asSOBlq"
      },
      "execution_count": null,
      "outputs": []
    },
    {
      "cell_type": "code",
      "source": [
        "data = data[['title', 'content']]\n",
        "data.to_excel(\"/content/content/MyDrive/poem_preprocess_data.xlsx\")"
      ],
      "metadata": {
        "id": "CW0mhmUrXAE7"
      },
      "execution_count": null,
      "outputs": []
    },
    {
      "cell_type": "markdown",
      "source": [
        "# dica"
      ],
      "metadata": {
        "id": "ErAvonX0Xv3f"
      }
    },
    {
      "cell_type": "code",
      "source": [
        "import pandas as pd\n",
        "import re\n",
        "\n",
        "data = pd.read_excel('/content/content/MyDrive/dica_poem_crawled.xlsx')"
      ],
      "metadata": {
        "id": "XzxBgKfUXx6W"
      },
      "execution_count": null,
      "outputs": []
    },
    {
      "cell_type": "code",
      "source": [
        "# 결측값 제거\n",
        "data = data.dropna(axis = 0)\n",
        "len(data)  # 17980"
      ],
      "metadata": {
        "id": "Q-IRMMJJX8-e"
      },
      "execution_count": null,
      "outputs": []
    },
    {
      "cell_type": "code",
      "source": [
        "#영어 들어간 content 지우기\n",
        "data['drop'] = data['content'].apply(lambda x : 1 if  re.compile(r'[a-zA-Z]+').search(x) else 0)\n",
        "data = data.drop(data[data['drop']==1].index)\n",
        "len(data)  # 17433"
      ],
      "metadata": {
        "id": "eUYfwKVBX8-g"
      },
      "execution_count": null,
      "outputs": []
    },
    {
      "cell_type": "code",
      "source": [
        "#괄호 + 괄호 안 지우기\n",
        "data['content'] = data['content'].apply(lambda x : re.sub(r\"\\([^)]*\\)\",\"\",x))"
      ],
      "metadata": {
        "id": "p_BpQp6ZX8-h"
      },
      "execution_count": null,
      "outputs": []
    },
    {
      "cell_type": "code",
      "source": [
        "#줄바꿈 바꾸기\n",
        "def func_space(text):\n",
        "  text = re.sub(r\"\\/+\",\"/\",text)\n",
        "  text = re.sub(r\"[ (\\xa0)|(\\t)]+\",\" \",text)\n",
        "  text = re.sub(r\"[(\\n)]+\",\"\\n\",text)\n",
        "  return text\n",
        "\n",
        "data['content'] = data['content'].apply(lambda x : func_space(x))"
      ],
      "metadata": {
        "id": "TQWVwn1sX8-j"
      },
      "execution_count": null,
      "outputs": []
    },
    {
      "cell_type": "code",
      "source": [
        "def func_character(text):\n",
        "  #한자 바꾸기\n",
        "  hj = list(set(re.findall(r\"([一-鿕]|[㐀-䶵]|[豈-龎])+\", text)))\n",
        "  hg = [hanja.translate(h,'substitution') for h in hj]\n",
        "  for i in range(len(hg)):\n",
        "    text = text.replace(hj[i], hg[i])\n",
        "  return text\n",
        "\n",
        "data['content'] = data['content'].apply(lambda x : func_character(x))"
      ],
      "metadata": {
        "id": "4Lut8ClOX8-k"
      },
      "execution_count": null,
      "outputs": []
    },
    {
      "cell_type": "code",
      "source": [
        "# 짧은 시 제거\n",
        "data['drop'] = data['content'].apply(lambda x : 1 if len(x)<10 else 0)\n",
        "data = data.drop(data[data['drop']==1].index)"
      ],
      "metadata": {
        "id": "jPhk4aszX8-l"
      },
      "execution_count": null,
      "outputs": []
    },
    {
      "cell_type": "code",
      "source": [
        "# \\r -> \\n\n",
        "data['content'] = data['content'].apply(lambda x: re.sub('\\r', '\\n', x))"
      ],
      "metadata": {
        "id": "1BeiopM7X8-l"
      },
      "execution_count": null,
      "outputs": []
    },
    {
      "cell_type": "code",
      "source": [
        "# 개행문자 하나로 맞춰주기, 특수문자 제거(제거할 때 띄어쓰기)\n",
        "def func_n(text):\n",
        "  text = re.sub('\\n\\s+', '\\n', text)\n",
        "  text = re.sub(r\"[^가-힇0-9‘“.,!?\\n/ ]+\", \" \", text)\n",
        "\n",
        "  return text\n",
        "\n",
        "data['content'] = data['content'].apply(lambda x : func_n(x))"
      ],
      "metadata": {
        "id": "L37pmkoTX8-m"
      },
      "execution_count": null,
      "outputs": []
    },
    {
      "cell_type": "code",
      "source": [
        "data = data[['title', 'content', 'img_url']]\n",
        "data.to_excel(\"/content/content/MyDrive/project/dica_preprocess_data.xlsx\")"
      ],
      "metadata": {
        "id": "pYYnyNqJX8-o"
      },
      "execution_count": null,
      "outputs": []
    },
    {
      "cell_type": "markdown",
      "source": [
        "확인"
      ],
      "metadata": {
        "id": "PJCOc1MbI-8c"
      }
    },
    {
      "cell_type": "code",
      "source": [
        "dica = pd.read_excel('/content/content/MyDrive/dica_preprocess_data.xlsx')\n",
        "poemlove = pd.read_excel('/content/content/MyDrive/poem_preprocess_data.xlsx')"
      ],
      "metadata": {
        "id": "SFHQXsEHJAQU"
      },
      "execution_count": null,
      "outputs": []
    },
    {
      "cell_type": "code",
      "source": [
        "len(dica), len(poemlove)"
      ],
      "metadata": {
        "id": "U_2EtA2nZdQ4"
      },
      "execution_count": null,
      "outputs": []
    },
    {
      "cell_type": "code",
      "source": [
        "data['content'][5]"
      ],
      "metadata": {
        "id": "22SAEKgzZeFY"
      },
      "execution_count": null,
      "outputs": []
    },
    {
      "cell_type": "code",
      "source": [
        "dica['content'][5]"
      ],
      "metadata": {
        "id": "kc0LO2TvZe1G"
      },
      "execution_count": null,
      "outputs": []
    }
  ]
}