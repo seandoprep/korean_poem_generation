{
  "cells": [
    {
      "attachments": {},
      "cell_type": "markdown",
      "metadata": {
        "colab_type": "text",
        "id": "view-in-github"
      },
      "source": [
        "<a href=\"https://colab.research.google.com/github/seandoprep/korean_poem_generation/blob/main/poem_preprocess.ipynb\" target=\"_parent\"><img src=\"https://colab.research.google.com/assets/colab-badge.svg\" alt=\"Open In Colab\"/></a>"
      ]
    },
    {
      "cell_type": "code",
      "execution_count": null,
      "metadata": {
        "colab": {
          "base_uri": "https://localhost:8080/"
        },
        "id": "dCsHrWiwK_75",
        "outputId": "7730dcbd-9d7c-45fe-a89c-4bb429d1b545"
      },
      "outputs": [
        {
          "name": "stdout",
          "output_type": "stream",
          "text": [
            "Mounted at content/\n"
          ]
        }
      ],
      "source": [
        "# from google.colab import drive\n",
        "# drive.mount('content/')"
      ]
    },
    {
      "cell_type": "code",
      "execution_count": null,
      "metadata": {
        "id": "X9D-TLvCLbW7"
      },
      "outputs": [],
      "source": [
        "!pip install hanja"
      ]
    },
    {
      "attachments": {},
      "cell_type": "markdown",
      "metadata": {
        "id": "_tVwwiJ1XuE7"
      },
      "source": [
        "# Poemlove"
      ]
    },
    {
      "cell_type": "code",
      "execution_count": null,
      "metadata": {
        "id": "JnY1wySNLFyN"
      },
      "outputs": [],
      "source": [
        "import pandas as pd\n",
        "import re\n",
        "import hanja\n",
        "\n",
        "data = pd.read_excel('./poem_data/poem_crawled_data.xlsx')"
      ]
    },
    {
      "cell_type": "code",
      "execution_count": null,
      "metadata": {
        "id": "iPB_WKONMBVs"
      },
      "outputs": [],
      "source": [
        "# 결측값 제거\n",
        "data = data.dropna(axis = 0)\n",
        "len(data)  # 46219"
      ]
    },
    {
      "cell_type": "code",
      "execution_count": null,
      "metadata": {
        "id": "dDYxvvZsLd14"
      },
      "outputs": [],
      "source": [
        "#영어 들어간 content 지우기\n",
        "data['drop'] = data['content'].apply(lambda x : 1 if  re.compile(r'[a-zA-Z]+').search(x) else 0)\n",
        "data = data.drop(data[data['drop']==1].index)\n",
        "len(data)  # 42541"
      ]
    },
    {
      "cell_type": "code",
      "execution_count": null,
      "metadata": {
        "id": "jCI8W6ZEL7Vh"
      },
      "outputs": [],
      "source": [
        "#괄호 + 괄호 안 지우기\n",
        "data['content'] = data['content'].apply(lambda x : re.sub(r\"\\([^)]*\\)\",\"\",x))"
      ]
    },
    {
      "cell_type": "code",
      "execution_count": null,
      "metadata": {
        "id": "e7oetZzcL8fc"
      },
      "outputs": [],
      "source": [
        "#줄바꿈 바꾸기\n",
        "def func_space(text):\n",
        "  text = re.sub(r\"\\/+\",\"/\",text)\n",
        "  text = re.sub(r\"[ (\\xa0)|(\\t)]+\",\" \",text)\n",
        "  text = re.sub(r\"[(\\n)]+\",\"\\n\",text)\n",
        "  return text\n",
        "\n",
        "data['content'] = data['content'].apply(lambda x : func_space(x))"
      ]
    },
    {
      "cell_type": "code",
      "execution_count": null,
      "metadata": {
        "id": "1xkycBqoL9rV"
      },
      "outputs": [],
      "source": [
        "def func_character(text):\n",
        "  #한자 바꾸기\n",
        "  hj = list(set(re.findall(r\"([一-鿕]|[㐀-䶵]|[豈-龎])+\", text)))\n",
        "  hg = [hanja.translate(h,'substitution') for h in hj]\n",
        "  for i in range(len(hg)):\n",
        "    text = text.replace(hj[i], hg[i])\n",
        "  return text\n",
        "\n",
        "data['content'] = data['content'].apply(lambda x : func_character(x))"
      ]
    },
    {
      "cell_type": "code",
      "execution_count": null,
      "metadata": {
        "id": "Z1F8-k_lL-sB"
      },
      "outputs": [],
      "source": [
        "# 짧은 시 제거\n",
        "data['drop'] = data['content'].apply(lambda x : 1 if len(x)<10 else 0)\n",
        "data = data.drop(data[data['drop']==1].index)"
      ]
    },
    {
      "cell_type": "code",
      "execution_count": null,
      "metadata": {
        "id": "afvQ2tqwNqvV"
      },
      "outputs": [],
      "source": [
        "# \\r -> \\n\n",
        "data['content'] = data['content'].apply(lambda x: re.sub('\\r', '\\n', x))"
      ]
    },
    {
      "cell_type": "code",
      "execution_count": null,
      "metadata": {
        "id": "kRK-47ISTekd"
      },
      "outputs": [],
      "source": [
        "# 개행문자 하나로 맞춰주기, 특수문자 제거(제거할 때 띄어쓰기)\n",
        "def func_n(text):\n",
        "  text = re.sub('\\n\\s+', '\\n', text)\n",
        "  text = re.sub(r\"[^가-힇0-9‘“.,!?\\n/ ]+\", \" \", text)\n",
        "\n",
        "  return text\n",
        "\n",
        "data['content'] = data['content'].apply(lambda x : func_n(x))"
      ]
    },
    {
      "cell_type": "code",
      "execution_count": null,
      "metadata": {
        "id": "LMnT2asSOBlq"
      },
      "outputs": [],
      "source": [
        "# 제목 수정\n",
        "def func_title(text):\n",
        "  match = re.search('-', text)\n",
        "  if match:\n",
        "    start_index = match.start()\n",
        "    text = text[:start_index-1]\n",
        "  return text\n",
        "\n",
        "data['title'] = data['title'].apply(lambda x : func_title(x))"
      ]
    },
    {
      "cell_type": "code",
      "execution_count": null,
      "metadata": {
        "id": "CW0mhmUrXAE7"
      },
      "outputs": [],
      "source": [
        "data = data[['title', 'content']]\n",
        "data.to_excel(\"./poem_data/poem_preprocess_data.xlsx\")"
      ]
    },
    {
      "attachments": {},
      "cell_type": "markdown",
      "metadata": {
        "id": "ErAvonX0Xv3f"
      },
      "source": [
        "# dica"
      ]
    },
    {
      "cell_type": "code",
      "execution_count": null,
      "metadata": {
        "id": "XzxBgKfUXx6W"
      },
      "outputs": [],
      "source": [
        "import pandas as pd\n",
        "import re\n",
        "\n",
        "data = pd.read_excel('./poem_data/dica_poem_crawled.xlsx')"
      ]
    },
    {
      "cell_type": "code",
      "execution_count": null,
      "metadata": {
        "id": "Q-IRMMJJX8-e"
      },
      "outputs": [],
      "source": [
        "# 결측값 제거\n",
        "data = data.dropna(axis = 0)\n",
        "len(data)  # 17980"
      ]
    },
    {
      "cell_type": "code",
      "execution_count": null,
      "metadata": {
        "id": "eUYfwKVBX8-g"
      },
      "outputs": [],
      "source": [
        "#영어 들어간 content 지우기\n",
        "data['drop'] = data['content'].apply(lambda x : 1 if  re.compile(r'[a-zA-Z]+').search(x) else 0)\n",
        "data = data.drop(data[data['drop']==1].index)\n",
        "len(data)  # 17433"
      ]
    },
    {
      "cell_type": "code",
      "execution_count": null,
      "metadata": {
        "id": "p_BpQp6ZX8-h"
      },
      "outputs": [],
      "source": [
        "#괄호 + 괄호 안 지우기\n",
        "data['content'] = data['content'].apply(lambda x : re.sub(r\"\\([^)]*\\)\",\"\",x))"
      ]
    },
    {
      "cell_type": "code",
      "execution_count": null,
      "metadata": {
        "id": "TQWVwn1sX8-j"
      },
      "outputs": [],
      "source": [
        "#줄바꿈 바꾸기\n",
        "def func_space(text):\n",
        "  text = re.sub(r\"\\/+\",\"/\",text)\n",
        "  text = re.sub(r\"[ (\\xa0)|(\\t)]+\",\" \",text)\n",
        "  text = re.sub(r\"[(\\n)]+\",\"\\n\",text)\n",
        "  return text\n",
        "\n",
        "data['content'] = data['content'].apply(lambda x : func_space(x))"
      ]
    },
    {
      "cell_type": "code",
      "execution_count": null,
      "metadata": {
        "id": "4Lut8ClOX8-k"
      },
      "outputs": [],
      "source": [
        "def func_character(text):\n",
        "  #한자 바꾸기\n",
        "  hj = list(set(re.findall(r\"([一-鿕]|[㐀-䶵]|[豈-龎])+\", text)))\n",
        "  hg = [hanja.translate(h,'substitution') for h in hj]\n",
        "  for i in range(len(hg)):\n",
        "    text = text.replace(hj[i], hg[i])\n",
        "  return text\n",
        "\n",
        "data['content'] = data['content'].apply(lambda x : func_character(x))"
      ]
    },
    {
      "cell_type": "code",
      "execution_count": null,
      "metadata": {
        "id": "jPhk4aszX8-l"
      },
      "outputs": [],
      "source": [
        "# 짧은 시 제거\n",
        "data['drop'] = data['content'].apply(lambda x : 1 if len(x)<10 else 0)\n",
        "data = data.drop(data[data['drop']==1].index)"
      ]
    },
    {
      "cell_type": "code",
      "execution_count": null,
      "metadata": {
        "id": "1BeiopM7X8-l"
      },
      "outputs": [],
      "source": [
        "# \\r -> \\n\n",
        "data['content'] = data['content'].apply(lambda x: re.sub('\\r', '\\n', x))"
      ]
    },
    {
      "cell_type": "code",
      "execution_count": null,
      "metadata": {
        "id": "L37pmkoTX8-m"
      },
      "outputs": [],
      "source": [
        "# 개행문자 하나로 맞춰주기, 특수문자 제거(제거할 때 띄어쓰기)\n",
        "def func_n(text):\n",
        "  text = re.sub('\\n\\s+', '\\n', text)\n",
        "  text = re.sub(r\"[^가-힇0-9‘“.,!?\\n/ ]+\", \" \", text)\n",
        "\n",
        "  return text\n",
        "\n",
        "data['content'] = data['content'].apply(lambda x : func_n(x))"
      ]
    },
    {
      "cell_type": "code",
      "execution_count": null,
      "metadata": {
        "id": "pYYnyNqJX8-o"
      },
      "outputs": [],
      "source": [
        "data = data[['title', 'content', 'img_url']]\n",
        "data.to_excel(\"./poem_data/dica_preprocess_data.xlsx\")"
      ]
    },
    {
      "attachments": {},
      "cell_type": "markdown",
      "metadata": {
        "id": "PJCOc1MbI-8c"
      },
      "source": [
        "확인"
      ]
    },
    {
      "cell_type": "code",
      "execution_count": null,
      "metadata": {
        "id": "SFHQXsEHJAQU"
      },
      "outputs": [],
      "source": [
        "dica = pd.read_excel('./poem_data/dica_preprocess_data.xlsx')\n",
        "poemlove = pd.read_excel('./poem_data/poem_preprocess_data.xlsx')"
      ]
    },
    {
      "cell_type": "code",
      "execution_count": null,
      "metadata": {
        "id": "U_2EtA2nZdQ4"
      },
      "outputs": [],
      "source": [
        "len(dica), len(poemlove)"
      ]
    },
    {
      "cell_type": "code",
      "execution_count": null,
      "metadata": {
        "id": "22SAEKgzZeFY"
      },
      "outputs": [],
      "source": [
        "data['content'][5]"
      ]
    },
    {
      "cell_type": "code",
      "execution_count": null,
      "metadata": {
        "id": "kc0LO2TvZe1G"
      },
      "outputs": [],
      "source": [
        "dica['content'][5]"
      ]
    }
  ],
  "metadata": {
    "colab": {
      "include_colab_link": true,
      "provenance": []
    },
    "gpuClass": "standard",
    "kernelspec": {
      "display_name": "Python 3",
      "name": "python3"
    },
    "language_info": {
      "name": "python"
    }
  },
  "nbformat": 4,
  "nbformat_minor": 0
}
