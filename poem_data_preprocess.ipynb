{
  "nbformat": 4,
  "nbformat_minor": 0,
  "metadata": {
    "colab": {
      "provenance": [],
      "toc_visible": true
    },
    "kernelspec": {
      "name": "python3",
      "display_name": "Python 3"
    },
    "language_info": {
      "name": "python"
    }
  },
  "cells": [
    {
      "cell_type": "code",
      "source": [
        "import pandas as pd\n",
        "import re\n",
        "import hanja"
      ],
      "metadata": {
        "id": "0Hot2Ss9wiWl"
      },
      "execution_count": null,
      "outputs": []
    },
    {
      "cell_type": "code",
      "source": [
        "data = pd.read_excel(\"/content/drive/MyDrive/poem_crawled_data.xlsx\")\n",
        "print(len(data))\n",
        "data.head()"
      ],
      "metadata": {
        "colab": {
          "base_uri": "https://localhost:8080/",
          "height": 547
        },
        "id": "RSKrTg06upQe",
        "outputId": "e30bb039-5c7c-4d77-8fc5-c69647d51e83"
      },
      "execution_count": null,
      "outputs": [
        {
          "output_type": "stream",
          "name": "stdout",
          "text": [
            "17909\n"
          ]
        },
        {
          "output_type": "execute_result",
          "data": {
            "text/plain": [
              "   Unnamed: 0   title                                            content  \\\n",
              "0           0      해후  \\n\\t\\t\\t\\t\\t\\t큰 손의 터치. 시원하고 장쾌한 스크린\\n두 그리움이 만나...   \n",
              "1           1      접선  \\n\\t\\t\\t\\t\\t\\t정지된 시간대. \\n정체불명 E.T 같은 자들이 접선하고 ...   \n",
              "2           2      변신  \\n\\t\\t\\t\\t\\t\\t 나는 한때 네 그루 나무중에 하나였습니다.\\n 그러나\\n...   \n",
              "3           3  너는 문이다  \\n\\n\\n너는 문(moon)이다\\n\\n암흑에 갇힌 者에게\\n\\n빛의 세계 여는 문...   \n",
              "4           4  사량도가는길  \\n사량도 가는길\\n\\n\\n \\n이른 새벽\\n물살을 가르며\\n또 하루를 연다\\n뜨거...   \n",
              "\n",
              "                                             img_url  \n",
              "0  http://cafe186.daum.net/_c21_/pds_down_hdn?grp...  \n",
              "1  http://cafe186.daum.net/_c21_/pds_down_hdn?grp...  \n",
              "2  http://cafe186.daum.net/_c21_/pds_down_hdn?grp...  \n",
              "3  http://cafe186.daum.net/_c21_/pds_down_hdn?grp...  \n",
              "4  http://cafe186.daum.net/_c21_/pds_down_hdn?grp...  "
            ],
            "text/html": [
              "\n",
              "  <div id=\"df-e7b73592-95c9-408a-8da0-d0639ccea4a3\">\n",
              "    <div class=\"colab-df-container\">\n",
              "      <div>\n",
              "<style scoped>\n",
              "    .dataframe tbody tr th:only-of-type {\n",
              "        vertical-align: middle;\n",
              "    }\n",
              "\n",
              "    .dataframe tbody tr th {\n",
              "        vertical-align: top;\n",
              "    }\n",
              "\n",
              "    .dataframe thead th {\n",
              "        text-align: right;\n",
              "    }\n",
              "</style>\n",
              "<table border=\"1\" class=\"dataframe\">\n",
              "  <thead>\n",
              "    <tr style=\"text-align: right;\">\n",
              "      <th></th>\n",
              "      <th>Unnamed: 0</th>\n",
              "      <th>title</th>\n",
              "      <th>content</th>\n",
              "      <th>img_url</th>\n",
              "    </tr>\n",
              "  </thead>\n",
              "  <tbody>\n",
              "    <tr>\n",
              "      <th>0</th>\n",
              "      <td>0</td>\n",
              "      <td>해후</td>\n",
              "      <td>\\n\\t\\t\\t\\t\\t\\t큰 손의 터치. 시원하고 장쾌한 스크린\\n두 그리움이 만나...</td>\n",
              "      <td>http://cafe186.daum.net/_c21_/pds_down_hdn?grp...</td>\n",
              "    </tr>\n",
              "    <tr>\n",
              "      <th>1</th>\n",
              "      <td>1</td>\n",
              "      <td>접선</td>\n",
              "      <td>\\n\\t\\t\\t\\t\\t\\t정지된 시간대. \\n정체불명 E.T 같은 자들이 접선하고 ...</td>\n",
              "      <td>http://cafe186.daum.net/_c21_/pds_down_hdn?grp...</td>\n",
              "    </tr>\n",
              "    <tr>\n",
              "      <th>2</th>\n",
              "      <td>2</td>\n",
              "      <td>변신</td>\n",
              "      <td>\\n\\t\\t\\t\\t\\t\\t 나는 한때 네 그루 나무중에 하나였습니다.\\n 그러나\\n...</td>\n",
              "      <td>http://cafe186.daum.net/_c21_/pds_down_hdn?grp...</td>\n",
              "    </tr>\n",
              "    <tr>\n",
              "      <th>3</th>\n",
              "      <td>3</td>\n",
              "      <td>너는 문이다</td>\n",
              "      <td>\\n\\n\\n너는 문(moon)이다\\n\\n암흑에 갇힌 者에게\\n\\n빛의 세계 여는 문...</td>\n",
              "      <td>http://cafe186.daum.net/_c21_/pds_down_hdn?grp...</td>\n",
              "    </tr>\n",
              "    <tr>\n",
              "      <th>4</th>\n",
              "      <td>4</td>\n",
              "      <td>사량도가는길</td>\n",
              "      <td>\\n사량도 가는길\\n\\n\\n \\n이른 새벽\\n물살을 가르며\\n또 하루를 연다\\n뜨거...</td>\n",
              "      <td>http://cafe186.daum.net/_c21_/pds_down_hdn?grp...</td>\n",
              "    </tr>\n",
              "  </tbody>\n",
              "</table>\n",
              "</div>\n",
              "      <button class=\"colab-df-convert\" onclick=\"convertToInteractive('df-e7b73592-95c9-408a-8da0-d0639ccea4a3')\"\n",
              "              title=\"Convert this dataframe to an interactive table.\"\n",
              "              style=\"display:none;\">\n",
              "        \n",
              "  <svg xmlns=\"http://www.w3.org/2000/svg\" height=\"24px\"viewBox=\"0 0 24 24\"\n",
              "       width=\"24px\">\n",
              "    <path d=\"M0 0h24v24H0V0z\" fill=\"none\"/>\n",
              "    <path d=\"M18.56 5.44l.94 2.06.94-2.06 2.06-.94-2.06-.94-.94-2.06-.94 2.06-2.06.94zm-11 1L8.5 8.5l.94-2.06 2.06-.94-2.06-.94L8.5 2.5l-.94 2.06-2.06.94zm10 10l.94 2.06.94-2.06 2.06-.94-2.06-.94-.94-2.06-.94 2.06-2.06.94z\"/><path d=\"M17.41 7.96l-1.37-1.37c-.4-.4-.92-.59-1.43-.59-.52 0-1.04.2-1.43.59L10.3 9.45l-7.72 7.72c-.78.78-.78 2.05 0 2.83L4 21.41c.39.39.9.59 1.41.59.51 0 1.02-.2 1.41-.59l7.78-7.78 2.81-2.81c.8-.78.8-2.07 0-2.86zM5.41 20L4 18.59l7.72-7.72 1.47 1.35L5.41 20z\"/>\n",
              "  </svg>\n",
              "      </button>\n",
              "      \n",
              "  <style>\n",
              "    .colab-df-container {\n",
              "      display:flex;\n",
              "      flex-wrap:wrap;\n",
              "      gap: 12px;\n",
              "    }\n",
              "\n",
              "    .colab-df-convert {\n",
              "      background-color: #E8F0FE;\n",
              "      border: none;\n",
              "      border-radius: 50%;\n",
              "      cursor: pointer;\n",
              "      display: none;\n",
              "      fill: #1967D2;\n",
              "      height: 32px;\n",
              "      padding: 0 0 0 0;\n",
              "      width: 32px;\n",
              "    }\n",
              "\n",
              "    .colab-df-convert:hover {\n",
              "      background-color: #E2EBFA;\n",
              "      box-shadow: 0px 1px 2px rgba(60, 64, 67, 0.3), 0px 1px 3px 1px rgba(60, 64, 67, 0.15);\n",
              "      fill: #174EA6;\n",
              "    }\n",
              "\n",
              "    [theme=dark] .colab-df-convert {\n",
              "      background-color: #3B4455;\n",
              "      fill: #D2E3FC;\n",
              "    }\n",
              "\n",
              "    [theme=dark] .colab-df-convert:hover {\n",
              "      background-color: #434B5C;\n",
              "      box-shadow: 0px 1px 3px 1px rgba(0, 0, 0, 0.15);\n",
              "      filter: drop-shadow(0px 1px 2px rgba(0, 0, 0, 0.3));\n",
              "      fill: #FFFFFF;\n",
              "    }\n",
              "  </style>\n",
              "\n",
              "      <script>\n",
              "        const buttonEl =\n",
              "          document.querySelector('#df-e7b73592-95c9-408a-8da0-d0639ccea4a3 button.colab-df-convert');\n",
              "        buttonEl.style.display =\n",
              "          google.colab.kernel.accessAllowed ? 'block' : 'none';\n",
              "\n",
              "        async function convertToInteractive(key) {\n",
              "          const element = document.querySelector('#df-e7b73592-95c9-408a-8da0-d0639ccea4a3');\n",
              "          const dataTable =\n",
              "            await google.colab.kernel.invokeFunction('convertToInteractive',\n",
              "                                                     [key], {});\n",
              "          if (!dataTable) return;\n",
              "\n",
              "          const docLinkHtml = 'Like what you see? Visit the ' +\n",
              "            '<a target=\"_blank\" href=https://colab.research.google.com/notebooks/data_table.ipynb>data table notebook</a>'\n",
              "            + ' to learn more about interactive tables.';\n",
              "          element.innerHTML = '';\n",
              "          dataTable['output_type'] = 'display_data';\n",
              "          await google.colab.output.renderOutput(dataTable, element);\n",
              "          const docLink = document.createElement('div');\n",
              "          docLink.innerHTML = docLinkHtml;\n",
              "          element.appendChild(docLink);\n",
              "        }\n",
              "      </script>\n",
              "    </div>\n",
              "  </div>\n",
              "  "
            ]
          },
          "metadata": {},
          "execution_count": 3
        }
      ]
    },
    {
      "cell_type": "code",
      "source": [
        "#영어 들어간 content 지우기\n",
        "data['drop'] = data['content'].apply(lambda x : 1 if  re.compile(r'[a-zA-Z]+').search(x) else 0)\n",
        "data = data.drop(data[data['drop']==1].index)"
      ],
      "metadata": {
        "id": "tOc81Gi58WTd"
      },
      "execution_count": null,
      "outputs": []
    },
    {
      "cell_type": "code",
      "source": [
        "#괄호 + 괄호 안 지우기\n",
        "data['content'] = data['content'].apply(lambda x : re.sub(r\"\\([^)]*\\)\",\"\",x))"
      ],
      "metadata": {
        "id": "uspMpxGuPD90"
      },
      "execution_count": null,
      "outputs": []
    },
    {
      "cell_type": "code",
      "source": [
        "#줄바꿈 바꾸기\n",
        "def func_space(text):\n",
        "  text = re.sub(r\"\\/+\",\"/\",text)\n",
        "  text = re.sub(r\"[ (\\xa0)|(\\t)]+\",\" \",text)\n",
        "  text = re.sub(r\"[(\\n)]+\",\"\\n\",text)\n",
        "  return text\n",
        "\n",
        "data['content'] = data['content'].apply(lambda x : func_space(x))"
      ],
      "metadata": {
        "id": "SGddZztLRLst"
      },
      "execution_count": null,
      "outputs": []
    },
    {
      "cell_type": "code",
      "source": [
        "def func_character(text):\n",
        "  #한자 바꾸기\n",
        "  hj = list(set(re.findall(r\"([一-鿕]|[㐀-䶵]|[豈-龎])+\", text)))\n",
        "  hg = [hanja.translate(h,'substitution') for h in hj]\n",
        "  for i in range(len(hg)):\n",
        "    text = text.replace(hj[i], hg[i])\n",
        "  #특수문자 지우기\n",
        "  text = re.sub(r\"[^가-힇0-9‘“.,!? ]+\", \"\", text)\n",
        "  return text\n",
        "\n",
        "data['content'] = data['content'].apply(lambda x : func_character(x))"
      ],
      "metadata": {
        "id": "xlIEcgSeZhTf"
      },
      "execution_count": null,
      "outputs": []
    },
    {
      "cell_type": "code",
      "source": [
        "data['drop'] = data['content'].apply(lambda x : 1 if len(x)<10 else 0)\n",
        "data = data.drop(data[data['drop']==1].index)"
      ],
      "metadata": {
        "id": "RSCMhs_Z9bSG"
      },
      "execution_count": null,
      "outputs": []
    },
    {
      "cell_type": "code",
      "source": [
        "len(data)\n",
        "data = data[['title', 'content', 'img_url']]\n",
        "data.to_excel(\"preprocess_data.xlsx\")"
      ],
      "metadata": {
        "id": "WGUXN-O690vn"
      },
      "execution_count": null,
      "outputs": []
    }
  ]
}