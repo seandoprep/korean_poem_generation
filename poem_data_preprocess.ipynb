{
  "nbformat": 4,
  "nbformat_minor": 0,
  "metadata": {
    "colab": {
      "provenance": [],
      "toc_visible": true
    },
    "kernelspec": {
      "name": "python3",
      "display_name": "Python 3"
    },
    "language_info": {
      "name": "python"
    }
  },
  "cells": [
    {
      "cell_type": "code",
      "source": [
        "import pandas as pd\n",
        "import re\n",
        "import hanja"
      ],
      "metadata": {
        "id": "0Hot2Ss9wiWl"
      },
      "execution_count": null,
      "outputs": []
    },
    {
      "cell_type": "code",
      "source": [
        "data = pd.read_excel(\"/content/drive/MyDrive/poem_crawled_data.xlsx\")\n",
        "print(len(data))\n",
        "data.head()"
      ],
      "metadata": {
        "id": "Wf5iM81OW8R1"
      },
      "execution_count": null,
      "outputs": []
    },
    {
      "cell_type": "code",
      "source": [
        "#영어 들어간 content 지우기\n",
        "data['drop'] = data['content'].apply(lambda x : 1 if  re.compile(r'[a-zA-Z]+').search(x) else 0)\n",
        "data = data.drop(data[data['drop']==1].index)"
      ],
      "metadata": {
        "id": "tOc81Gi58WTd"
      },
      "execution_count": null,
      "outputs": []
    },
    {
      "cell_type": "code",
      "source": [
        "#괄호 + 괄호 안 지우기\n",
        "data['content'] = data['content'].apply(lambda x : re.sub(r\"\\([^)]*\\)\",\"\",x))"
      ],
      "metadata": {
        "id": "uspMpxGuPD90"
      },
      "execution_count": null,
      "outputs": []
    },
    {
      "cell_type": "code",
      "source": [
        "#줄바꿈 바꾸기\n",
        "def func_space(text):\n",
        "  text = re.sub(r\"\\/+\",\"/\",text)\n",
        "  text = re.sub(r\"[ (\\xa0)|(\\t)]+\",\" \",text)\n",
        "  text = re.sub(r\"[(\\n)]+\",\"\\n\",text)\n",
        "  return text\n",
        "\n",
        "data['content'] = data['content'].apply(lambda x : func_space(x))"
      ],
      "metadata": {
        "id": "SGddZztLRLst"
      },
      "execution_count": null,
      "outputs": []
    },
    {
      "cell_type": "code",
      "source": [
        "def func_character(text):\n",
        "  #한자 바꾸기\n",
        "  hj = list(set(re.findall(r\"([一-鿕]|[㐀-䶵]|[豈-龎])+\", text)))\n",
        "  hg = [hanja.translate(h,'substitution') for h in hj]\n",
        "  for i in range(len(hg)):\n",
        "    text = text.replace(hj[i], hg[i])\n",
        "  #특수문자 지우기\n",
        "  text = re.sub(r\"[^가-힇0-9‘“.,!? ]+\", \"\", text)\n",
        "  return text\n",
        "\n",
        "data['content'] = data['content'].apply(lambda x : func_character(x))"
      ],
      "metadata": {
        "id": "xlIEcgSeZhTf"
      },
      "execution_count": null,
      "outputs": []
    },
    {
      "cell_type": "code",
      "source": [
        "data['drop'] = data['content'].apply(lambda x : 1 if len(x)<10 else 0)\n",
        "data = data.drop(data[data['drop']==1].index)"
      ],
      "metadata": {
        "id": "RSCMhs_Z9bSG"
      },
      "execution_count": null,
      "outputs": []
    },
    {
      "cell_type": "code",
      "source": [
        "len(data)\n",
        "data = data[['title', 'content', 'img_url']]\n",
        "data.to_excel(\"preprocess_data.xlsx\")"
      ],
      "metadata": {
        "id": "WGUXN-O690vn"
      },
      "execution_count": null,
      "outputs": []
    }
  ]
}